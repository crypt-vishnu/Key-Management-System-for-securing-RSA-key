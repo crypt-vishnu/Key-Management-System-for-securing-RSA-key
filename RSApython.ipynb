{
  "cells": [
    {
      "cell_type": "code",
      "execution_count": null,
      "metadata": {
        "colab": {
          "base_uri": "https://localhost:8080/"
        },
        "id": "2Fv_TpkCGKOX",
        "outputId": "46d678a9-edb8-4a00-9d9a-8c9da39e6084"
      },
      "outputs": [
        {
          "name": "stdout",
          "output_type": "stream",
          "text": [
            "Requirement already satisfied: rsa in /usr/local/lib/python3.7/dist-packages (4.8)\n",
            "Requirement already satisfied: pyasn1>=0.1.3 in /usr/local/lib/python3.7/dist-packages (from rsa) (0.4.8)\n"
          ]
        }
      ],
      "source": [
        "!pip install rsa"
      ]
    },
    {
      "cell_type": "code",
      "execution_count": null,
      "metadata": {
        "colab": {
          "background_save": true,
          "base_uri": "https://localhost:8080/"
        },
        "id": "oYxBoy6GKZnM",
        "outputId": "953c4330-b549-4b25-c8f6-7151510c0f61"
      },
      "outputs": [
        {
          "name": "stdout",
          "output_type": "stream",
          "text": [
            "\n",
            "  \n",
            "You want to:\n",
            "  1. Encryption\n",
            "  2. Decryption\n",
            "  3. Administrative Login\n",
            "\n",
            "  \n",
            "Public Key:  PublicKey(7359594403059826891604401332132416316518644212358427555139332358119558581006062898849536886529787349797996041868042021452233740359848539428449478848230757, 65537)\n",
            "Private Key:  PrivateKey(7359594403059826891604401332132416316518644212358427555139332358119558581006062898849536886529787349797996041868042021452233740359848539428449478848230757, 65537, 3375079875245481136261505440243523084562428121556258909771772190110675389718998664333565242887568446329527938466194813535962326434795045039379836253266773, 4529136746353560752870119461655349474126491295328877587859911832104851504115856367, 1624944181467933625387754785899627269303979576637113121672430570688776171)\n",
            "Encrypted message:  b\"K'.\\xd8x$\\xfa\\xda\\x90I\\xdd\\xc7\\xa5;\\xaa\\xce\\xcf\\x0b\\x06&\\xdc\\xfc\\xa9\\xf9K\\x90\\xf2\\x82\\x92\\x96C\\x10}E\\xe0\\xceZi\\x00\\xd0md\\xfe&\\x9b\\x91\\x9a\\x84\\xdeQ\\xefWu\\xca\\xa4M\\xf6me\\xc0T\\x0eq\\xa3\"\n",
            "<class 'rsa.key.PrivateKey'>\n",
            "\n",
            "  \n",
            "You want to:\n",
            "  1. Encryption\n",
            "  2. Decryption\n",
            "  3. Administrative Login\n",
            "\n",
            "  \n"
          ]
        }
      ],
      "source": [
        "import rsa\n",
        "import os\n",
        "class RSACLASS():\n",
        "  def __init__(self):\n",
        "    self.message=None\n",
        "    self.privateKey=None\n",
        "    self.publicKey=None\n",
        "    self.cipherText=None\n",
        "\n",
        "rsaobj=RSACLASS()\n",
        "def oper():\n",
        "  print('''\n",
        "  \n",
        "You want to:\n",
        "  1. Encryption\n",
        "  2. Decryption\n",
        "  3. Administrative Login\n",
        "\n",
        "  ''')\n",
        "  choice = input(\"Enter your Choice : \")\n",
        "  if choice==\"1\":\n",
        "    publicKey, privateKey = rsa.newkeys(512)\n",
        "    os.system(f'C:/Users/HP/Documents/Interns/vault kv put secret/data private={privateKey} public={publicKey}')\n",
        "    message = input(\"Enter a message : \")\n",
        "    encMessage = rsa.encrypt(message.encode(),publicKey)\n",
        "    print(\"Public Key: \", publicKey)\n",
        "    print(\"Private Key: \", privateKey)\n",
        "    print(\"Encrypted message: \", encMessage)\n",
        "    rsaobj.message=message\n",
        "    rsaobj.PublicKey=publicKey\n",
        "    rsaobj.PrivateKey=privateKey\n",
        "    rsaobj.cipherText=encMessage\n",
        "    #print(rsaobj.PrivateKey)\n",
        "    print(type(rsaobj.PrivateKey))\n",
        "    oper()\n",
        "  elif choice==\"2\":\n",
        "    key = input(\"Enter the Private Key : \")\n",
        "    if key==str(rsaobj.PrivateKey):\n",
        "      decMessage = rsa.decrypt(rsaobj.cipherText, rsaobj.PrivateKey).decode()\n",
        "      print(\"Decrypted Message : \",decMessage)\n",
        "    else:\n",
        "      print(\"Key Wrong\")\n",
        "    oper()\n",
        "  elif choice==\"3\":\n",
        "    usr=input(\"Enter the User Name : \")\n",
        "    passw=input(\"Enter the Password : \")\n",
        "    if usr==\"admin@123\" and passw==\"246810\":\n",
        "      decMessage = rsa.decrypt(rsaobj.cipherText, rsaobj.PrivateKey).decode()\n",
        "      print(\"Decrypted Message : \",decMessage)\n",
        "    oper()\n",
        "  else:\n",
        "    print(\"Wrong Input\")\n",
        "\n",
        "oper()"
      ]
    }
  ],
  "metadata": {
    "colab": {
      "collapsed_sections": [],
      "name": "RSApython.ipynb",
      "provenance": []
    },
    "kernelspec": {
      "display_name": "Python 3",
      "name": "python3"
    },
    "language_info": {
      "name": "python"
    }
  },
  "nbformat": 4,
  "nbformat_minor": 0
}