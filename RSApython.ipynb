{
  "cells": [
    {
      "cell_type": "code",
      "execution_count": null,
      "metadata": {
        "id": "2Fv_TpkCGKOX"
      },
      "outputs": [],
      "source": [
        "!pip install rsa"
      ]
    },
    {
      "cell_type": "code",
      "execution_count": null,
      "metadata": {
        "colab": {
          "background_save": true
        },
        "id": "oYxBoy6GKZnM"
      },
      "outputs": [],
      "source": [
        "import rsa\n",
        "import os\n",
        "class RSACLASS():\n",
        "  def __init__(self):\n",
        "    self.message=None\n",
        "    self.privateKey=None\n",
        "    self.publicKey=None\n",
        "    self.cipherText=None\n",
        "\n",
        "rsaobj=RSACLASS()\n",
        "def oper():\n",
        "  print('''\n",
        "  \n",
        "You want to:\n",
        "  1. Encryption\n",
        "  2. Decryption\n",
        "  3. Administrative Login\n",
        "\n",
        "  ''')\n",
        "  choice = input(\"Enter your Choice : \")\n",
        "  if choice==\"1\":\n",
        "    publicKey, privateKey = rsa.newkeys(512)\n",
        "    os.system(f'C:/Users/HP/Documents/Interns/vault kv put secret/data private={privateKey} public={publicKey}')\n",
        "    message = input(\"Enter a message : \")\n",
        "    encMessage = rsa.encrypt(message.encode(),publicKey)\n",
        "    print(\"Public Key: \", publicKey)\n",
        "    print(\"Private Key: \", privateKey)\n",
        "    print(\"Encrypted message: \", encMessage)\n",
        "    rsaobj.message=message\n",
        "    rsaobj.PublicKey=publicKey\n",
        "    rsaobj.PrivateKey=privateKey\n",
        "    rsaobj.cipherText=encMessage\n",
        "    #print(rsaobj.PrivateKey)\n",
        "    print(type(rsaobj.PrivateKey))\n",
        "    oper()\n",
        "  elif choice==\"2\":\n",
        "    key = input(\"Enter the Private Key : \")\n",
        "    if key==str(rsaobj.PrivateKey):\n",
        "      decMessage = rsa.decrypt(rsaobj.cipherText, rsaobj.PrivateKey).decode()\n",
        "      print(\"Decrypted Message : \",decMessage)\n",
        "    else:\n",
        "      print(\"Key Wrong\")\n",
        "    oper()\n",
        "  elif choice==\"3\":\n",
        "    usr=input(\"Enter the User Name : \")\n",
        "    passw=input(\"Enter the Password : \")\n",
        "    if usr==\"admin@123\" and passw==\"246810\":\n",
        "      decMessage = rsa.decrypt(rsaobj.cipherText, rsaobj.PrivateKey).decode()\n",
        "      print(\"Decrypted Message : \",decMessage)\n",
        "    oper()\n",
        "  else:\n",
        "    print(\"Wrong Input\")\n",
        "\n",
        "oper()"
      ]
    }
  ],
  "metadata": {
    "colab": {
      "collapsed_sections": [],
      "name": "RSApython.ipynb",
      "provenance": []
    },
    "kernelspec": {
      "display_name": "Python 3",
      "name": "python3"
    },
    "language_info": {
      "name": "python"
    }
  },
  "nbformat": 4,
  "nbformat_minor": 0
}